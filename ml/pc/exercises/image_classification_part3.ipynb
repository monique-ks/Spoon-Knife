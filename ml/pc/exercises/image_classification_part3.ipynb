{
  "cells": [
    {
      "cell_type": "markdown",
      "metadata": {
        "id": "jTEzoMx6CasV"
      },
      "source": [
        "#### Copyright 2018 Google LLC."
      ]
    },
    {
      "cell_type": "code",
      "execution_count": null,
      "metadata": {
        "id": "IhmPj1VVCfWb"
      },
      "outputs": [],
      "source": [
        "# Licensed under the Apache License, Version 2.0 (the \"License\");\n",
        "# you may not use this file except in compliance with the License.\n",
        "# You may obtain a copy of the License at\n",
        "#\n",
        "# https://www.apache.org/licenses/LICENSE-2.0\n",
        "#\n",
        "# Unless required by applicable law or agreed to in writing, software\n",
        "# distributed under the License is distributed on an \"AS IS\" BASIS,\n",
        "# WITHOUT WARRANTIES OR CONDITIONS OF ANY KIND, either express or implied.\n",
        "# See the License for the specific language governing permissions and\n",
        "# limitations under the License."
      ]
    },
    {
      "cell_type": "markdown",
      "metadata": {
        "id": "YHK6DyunSbs4"
      },
      "source": [
        "# Cat vs. Dog Image Classification\n",
        "## Exercise 3: Feature Extraction and Fine-Tuning\n",
        "**_Estimated completion time: 30 minutes_**\n",
        "\n",
        "In Exercise 1, we built a convnet from scratch, and were able to achieve an accuracy of about 70%. With the addition of data augmentation and dropout in Exercise 2, we were able to increase accuracy to about 80%. That seems decent, but 20% is still too high of an error rate. Maybe we just don't have enough training data available to properly solve the problem. What other approaches can we try?\n",
        "\n",
        "In this exercise, we'll look at two techniques for repurposing feature data generated from image models that have already been trained on large sets of data, **feature extraction** and **fine tuning**, and use them to improve the accuracy of our cat vs. dog classification model."
      ]
    },
    {
      "cell_type": "markdown",
      "metadata": {
        "id": "dI5rmt4UBwXs"
      },
      "source": [
        "## Feature Extraction Using a Pretrained Model\n",
        "\n",
        "One thing that is commonly done in computer vision is to take a model trained on a very large dataset, run it on your own, smaller dataset, and extract the intermediate representations (features) that the model generates. These representations are frequently informative for your own computer vision task, even though the task may be quite different from the problem that the original model was trained on. This versatility and repurposability of convnets is one of the most interesting aspects of deep learning.\n",
        "\n",
        "In our case, we will use the [Inception V3 model](https://arxiv.org/abs/1512.00567) developed at Google, and pre-trained on [ImageNet](http://image-net.org/), a large dataset of web images (1.4M images and 1000 classes). This is a powerful model; let's see what the features that it has learned can do for our cat vs. dog problem.\n",
        "\n",
        "First, we need to pick which intermediate layer of Inception V3 we will use for feature extraction. A common practice is to use the output of the very last layer before the `Flatten` operation, the so-called \"bottleneck layer.\" The reasoning here is that the following fully connected layers will be too specialized for the task the network was trained on, and thus the features learned by these layers won't be very useful for a new task. The bottleneck features, however, retain much generality.\n",
        "\n",
        "Let's instantiate an Inception V3 model preloaded with weights trained on ImageNet:\n"
      ]
    },
    {
      "cell_type": "code",
      "execution_count": 7,
      "metadata": {
        "id": "1xJZ5glPPCRz"
      },
      "outputs": [],
      "source": [
        "import os\n",
        "\n",
        "from tensorflow.keras import layers\n",
        "from tensorflow.keras import Model"
      ]
    },
    {
      "cell_type": "markdown",
      "metadata": {
        "id": "VaXLMtYiF0t9"
      },
      "source": [
        "Now let's download the weights:"
      ]
    },
    {
      "cell_type": "code",
      "execution_count": 8,
      "metadata": {
        "colab": {
          "base_uri": "https://localhost:8080/"
        },
        "id": "KMrbllgAFipZ",
        "outputId": "ee49f066-175d-4d15-d63b-2790258c6e57"
      },
      "outputs": [
        {
          "output_type": "stream",
          "name": "stdout",
          "text": [
            "--2022-04-27 14:16:33--  https://storage.googleapis.com/mledu-datasets/inception_v3_weights_tf_dim_ordering_tf_kernels_notop.h5\n",
            "Resolving storage.googleapis.com (storage.googleapis.com)... 74.125.70.128, 74.125.202.128, 74.125.69.128, ...\n",
            "Connecting to storage.googleapis.com (storage.googleapis.com)|74.125.70.128|:443... connected.\n",
            "HTTP request sent, awaiting response... 200 OK\n",
            "Length: 87910968 (84M) [application/x-hdf]\n",
            "Saving to: ‘/tmp/inception_v3_weights_tf_dim_ordering_tf_kernels_notop.h5’\n",
            "\n",
            "/tmp/inception_v3_w 100%[===================>]  83.84M   239MB/s    in 0.4s    \n",
            "\n",
            "2022-04-27 14:16:34 (239 MB/s) - ‘/tmp/inception_v3_weights_tf_dim_ordering_tf_kernels_notop.h5’ saved [87910968/87910968]\n",
            "\n"
          ]
        }
      ],
      "source": [
        "!wget --no-check-certificate \\\n",
        "    https://storage.googleapis.com/mledu-datasets/inception_v3_weights_tf_dim_ordering_tf_kernels_notop.h5 \\\n",
        "    -O /tmp/inception_v3_weights_tf_dim_ordering_tf_kernels_notop.h5"
      ]
    },
    {
      "cell_type": "code",
      "execution_count": 9,
      "metadata": {
        "id": "UnRiGBfOF8rq"
      },
      "outputs": [],
      "source": [
        "from tensorflow.keras.applications.inception_v3 import InceptionV3\n",
        "\n",
        "local_weights_file = '/tmp/inception_v3_weights_tf_dim_ordering_tf_kernels_notop.h5'\n",
        "pre_trained_model = InceptionV3(\n",
        "    input_shape=(150, 150, 3), include_top=False, weights=None)\n",
        "pre_trained_model.load_weights(local_weights_file)"
      ]
    },
    {
      "cell_type": "markdown",
      "metadata": {
        "id": "IcYZPBS3bTAj"
      },
      "source": [
        "By specifying the `include_top=False` argument, we load a network that doesn't include the classification layers at the top—ideal for feature extraction."
      ]
    },
    {
      "cell_type": "markdown",
      "metadata": {
        "id": "CFxrqTuJee5m"
      },
      "source": [
        "Let's make the model non-trainable, since we will only use it for feature extraction; we won't update the weights of the pretrained model during training."
      ]
    },
    {
      "cell_type": "code",
      "execution_count": 10,
      "metadata": {
        "id": "a38rB3lyedcB"
      },
      "outputs": [],
      "source": [
        "for layer in pre_trained_model.layers:\n",
        "  layer.trainable = False"
      ]
    },
    {
      "cell_type": "markdown",
      "metadata": {
        "id": "XGBGDiOAepnO"
      },
      "source": [
        "The layer we will use for feature extraction in Inception v3 is called `mixed7`. It is not the bottleneck of the network, but we are using it to keep a sufficiently large feature map (7x7 in this case). (Using the bottleneck layer would have resulting in a 3x3 feature map, which is a bit small.) Let's get the output from `mixed7`:"
      ]
    },
    {
      "cell_type": "code",
      "execution_count": 11,
      "metadata": {
        "colab": {
          "base_uri": "https://localhost:8080/"
        },
        "id": "Cj4rXshqbQlS",
        "outputId": "cc62b798-ed19-4c9b-925a-6be184d6a89b"
      },
      "outputs": [
        {
          "output_type": "stream",
          "name": "stdout",
          "text": [
            "last layer output shape: (None, 7, 7, 768)\n"
          ]
        }
      ],
      "source": [
        "last_layer = pre_trained_model.get_layer('mixed7')\n",
        "print('last layer output shape:', last_layer.output_shape)\n",
        "last_output = last_layer.output"
      ]
    },
    {
      "cell_type": "markdown",
      "metadata": {
        "id": "XxHk6XQLeUWh"
      },
      "source": [
        "Now let's stick a fully connected classifier on top of `last_output`:"
      ]
    },
    {
      "cell_type": "code",
      "execution_count": 12,
      "metadata": {
        "colab": {
          "base_uri": "https://localhost:8080/"
        },
        "id": "BMXb913pbvFg",
        "outputId": "d5e63ce9-7566-4a20-f1a2-66d3d1f7f5fa"
      },
      "outputs": [
        {
          "output_type": "stream",
          "name": "stderr",
          "text": [
            "/usr/local/lib/python3.7/dist-packages/keras/optimizer_v2/rmsprop.py:130: UserWarning: The `lr` argument is deprecated, use `learning_rate` instead.\n",
            "  super(RMSprop, self).__init__(name, **kwargs)\n"
          ]
        }
      ],
      "source": [
        "from tensorflow.keras.optimizers import RMSprop\n",
        "\n",
        "# Flatten the output layer to 1 dimension\n",
        "x = layers.Flatten()(last_output)\n",
        "# Add a fully connected layer with 1,024 hidden units and ReLU activation\n",
        "x = layers.Dense(1024, activation='relu')(x)\n",
        "# Add a dropout rate of 0.2\n",
        "x = layers.Dropout(0.2)(x)\n",
        "# Add a final sigmoid layer for classification\n",
        "x = layers.Dense(1, activation='sigmoid')(x)\n",
        "\n",
        "# Configure and compile the model\n",
        "model = Model(pre_trained_model.input, x)\n",
        "model.compile(loss='binary_crossentropy',\n",
        "              optimizer=RMSprop(lr=0.0001),\n",
        "              metrics=['acc'])"
      ]
    },
    {
      "cell_type": "markdown",
      "metadata": {
        "id": "_6ECjowwV5Ug"
      },
      "source": [
        "For examples and data preprocessing, let's use the same files and `train_generator` as we did in Exercise 2."
      ]
    },
    {
      "cell_type": "markdown",
      "metadata": {
        "id": "Cl-IqOTjZVw_"
      },
      "source": [
        "**NOTE:** The 2,000 images used in this exercise are excerpted from the [\"Dogs vs. Cats\" dataset](https://www.kaggle.com/c/dogs-vs-cats/data) available on Kaggle, which contains 25,000 images. Here, we use a subset of the full dataset to decrease training time for educational purposes."
      ]
    },
    {
      "cell_type": "code",
      "execution_count": 13,
      "metadata": {
        "colab": {
          "base_uri": "https://localhost:8080/"
        },
        "id": "O4s8HckqGlnb",
        "outputId": "17b3d133-6d14-44eb-e019-63e9dbca663c"
      },
      "outputs": [
        {
          "output_type": "stream",
          "name": "stdout",
          "text": [
            "--2022-04-27 14:16:37--  https://storage.googleapis.com/mledu-datasets/cats_and_dogs_filtered.zip\n",
            "Resolving storage.googleapis.com (storage.googleapis.com)... 64.233.182.128, 142.250.152.128, 173.194.194.128, ...\n",
            "Connecting to storage.googleapis.com (storage.googleapis.com)|64.233.182.128|:443... connected.\n",
            "HTTP request sent, awaiting response... 200 OK\n",
            "Length: 68606236 (65M) [application/zip]\n",
            "Saving to: ‘/tmp/cats_and_dogs_filtered.zip’\n",
            "\n",
            "/tmp/cats_and_dogs_ 100%[===================>]  65.43M   228MB/s    in 0.3s    \n",
            "\n",
            "2022-04-27 14:16:37 (228 MB/s) - ‘/tmp/cats_and_dogs_filtered.zip’ saved [68606236/68606236]\n",
            "\n"
          ]
        }
      ],
      "source": [
        "!wget --no-check-certificate \\\n",
        "   https://storage.googleapis.com/mledu-datasets/cats_and_dogs_filtered.zip -O \\\n",
        "   /tmp/cats_and_dogs_filtered.zip"
      ]
    },
    {
      "cell_type": "code",
      "execution_count": 14,
      "metadata": {
        "colab": {
          "base_uri": "https://localhost:8080/"
        },
        "id": "Fl9XXARuV_eg",
        "outputId": "8df0bd02-d2d2-4727-ad59-1507e454cb49"
      },
      "outputs": [
        {
          "output_type": "stream",
          "name": "stdout",
          "text": [
            "Found 2000 images belonging to 2 classes.\n",
            "Found 1000 images belonging to 2 classes.\n"
          ]
        }
      ],
      "source": [
        "import os\n",
        "import zipfile\n",
        "\n",
        "from tensorflow.keras.preprocessing.image import ImageDataGenerator\n",
        "\n",
        "local_zip = '/tmp/cats_and_dogs_filtered.zip'\n",
        "zip_ref = zipfile.ZipFile(local_zip, 'r')\n",
        "zip_ref.extractall('/tmp')\n",
        "zip_ref.close()\n",
        "\n",
        "# Define our example directories and files\n",
        "base_dir = '/tmp/cats_and_dogs_filtered'\n",
        "train_dir = os.path.join(base_dir, 'train')\n",
        "validation_dir = os.path.join(base_dir, 'validation')\n",
        "\n",
        "# Directory with our training cat pictures\n",
        "train_cats_dir = os.path.join(train_dir, 'cats')\n",
        "\n",
        "# Directory with our training dog pictures\n",
        "train_dogs_dir = os.path.join(train_dir, 'dogs')\n",
        "\n",
        "# Directory with our validation cat pictures\n",
        "validation_cats_dir = os.path.join(validation_dir, 'cats')\n",
        "\n",
        "# Directory with our validation dog pictures\n",
        "validation_dogs_dir = os.path.join(validation_dir, 'dogs')\n",
        "\n",
        "train_cat_fnames = os.listdir(train_cats_dir)\n",
        "train_dog_fnames = os.listdir(train_dogs_dir)\n",
        "\n",
        "# Add our data-augmentation parameters to ImageDataGenerator\n",
        "train_datagen = ImageDataGenerator(\n",
        "    rescale=1./255,\n",
        "    rotation_range=40,\n",
        "    width_shift_range=0.2,\n",
        "    height_shift_range=0.2,\n",
        "    shear_range=0.2,\n",
        "    zoom_range=0.2,\n",
        "    horizontal_flip=True)\n",
        "\n",
        "# Note that the validation data should not be augmented!\n",
        "val_datagen = ImageDataGenerator(rescale=1./255)\n",
        "\n",
        "train_generator = train_datagen.flow_from_directory(\n",
        "        train_dir, # This is the source directory for training images\n",
        "        target_size=(150, 150),  # All images will be resized to 150x150\n",
        "        batch_size=20,\n",
        "        # Since we use binary_crossentropy loss, we need binary labels\n",
        "        class_mode='binary')\n",
        "\n",
        "# Flow validation images in batches of 20 using val_datagen generator\n",
        "validation_generator = val_datagen.flow_from_directory(\n",
        "        validation_dir,\n",
        "        target_size=(150, 150),\n",
        "        batch_size=20,\n",
        "        class_mode='binary')"
      ]
    },
    {
      "cell_type": "markdown",
      "metadata": {
        "id": "qEC1AL7iVRLz"
      },
      "source": [
        "Finally, let's train the model using the features we extracted. We'll train on all 2000 images available, for 2 epochs, and validate on all 1,000 validation images."
      ]
    },
    {
      "cell_type": "code",
      "execution_count": 15,
      "metadata": {
        "colab": {
          "base_uri": "https://localhost:8080/"
        },
        "id": "Blhq2MAUeyGA",
        "outputId": "cca5ed3e-2b99-4a6a-d659-6b949f6926fa"
      },
      "outputs": [
        {
          "output_type": "stream",
          "name": "stderr",
          "text": [
            "/usr/local/lib/python3.7/dist-packages/ipykernel_launcher.py:7: UserWarning: `Model.fit_generator` is deprecated and will be removed in a future version. Please use `Model.fit`, which supports generators.\n",
            "  import sys\n"
          ]
        },
        {
          "output_type": "stream",
          "name": "stdout",
          "text": [
            "Epoch 1/2\n",
            "100/100 - 39s - loss: 0.3505 - acc: 0.8580 - val_loss: 0.1190 - val_acc: 0.9540 - 39s/epoch - 390ms/step\n",
            "Epoch 2/2\n",
            "100/100 - 23s - loss: 0.2251 - acc: 0.9155 - val_loss: 0.2583 - val_acc: 0.9140 - 23s/epoch - 226ms/step\n"
          ]
        }
      ],
      "source": [
        "history = model.fit_generator(\n",
        "      train_generator,\n",
        "      steps_per_epoch=100,\n",
        "      epochs=2,\n",
        "      validation_data=validation_generator,\n",
        "      validation_steps=50,\n",
        "      verbose=2)"
      ]
    },
    {
      "cell_type": "markdown",
      "metadata": {
        "id": "lRjyAkE62aOG"
      },
      "source": [
        "You can see that we reach a validation accuracy of 88–90% very quickly. This is much better than the small model we trained from scratch."
      ]
    },
    {
      "cell_type": "markdown",
      "metadata": {
        "id": "tt15y6IS2pBo"
      },
      "source": [
        "## Further Improving Accuracy with Fine-Tuning\n",
        "\n",
        "In our feature-extraction experiment, we only tried adding two classification layers on top of an Inception V3 layer. The weights of the pretrained network were not updated during training. One way to increase performance even further is to \"fine-tune\" the weights of the top layers of the pretrained model alongside the training of the top-level classifier. A couple of important notes on fine-tuning:\n",
        "\n",
        "- **Fine-tuning should only be attempted *after* you have trained the top-level classifier with the pretrained model set to non-trainable**. If you add a randomly initialized classifier on top of a pretrained model and attempt to train all layers jointly, the magnitude of the gradient updates will be too large (due to the random weights from the classifier), and your pretrained model will just forget everything it has learned.\n",
        "- Additionally, we **fine-tune only the *top layers* of the pre-trained model** rather than all layers of the pretrained model because, in a convnet, the higher up a layer is, the more specialized it is. The first few layers in a convnet learn very simple and generic features, which generalize to almost all types of images. But as you go higher up, the features are increasingly specific to the dataset that the model is trained on. The goal of fine-tuning is to adapt these specialized features to work with the new dataset.\n",
        "\n",
        "All we need to do to implement fine-tuning is to set the top layers of Inception V3 to be trainable, recompile the model (necessary for these changes to take effect), and resume training. Let's unfreeze all layers belonging to the `mixed7` module—i.e., all layers found after `mixed6`—and recompile the model:"
      ]
    },
    {
      "cell_type": "code",
      "execution_count": 16,
      "metadata": {
        "colab": {
          "base_uri": "https://localhost:8080/"
        },
        "id": "_l_J4S0Z2rgg",
        "outputId": "007cdc08-c572-480c-8105-2b5032a10920"
      },
      "outputs": [
        {
          "output_type": "stream",
          "name": "stderr",
          "text": [
            "/usr/local/lib/python3.7/dist-packages/keras/optimizer_v2/gradient_descent.py:102: UserWarning: The `lr` argument is deprecated, use `learning_rate` instead.\n",
            "  super(SGD, self).__init__(name, **kwargs)\n"
          ]
        }
      ],
      "source": [
        "from tensorflow.keras.optimizers import SGD\n",
        "\n",
        "unfreeze = False\n",
        "\n",
        "# Unfreeze all models after \"mixed6\"\n",
        "for layer in pre_trained_model.layers:\n",
        "  if unfreeze:\n",
        "    layer.trainable = True\n",
        "  if layer.name == 'mixed6':\n",
        "    unfreeze = True\n",
        "\n",
        "# As an optimizer, here we will use SGD \n",
        "# with a very low learning rate (0.00001)\n",
        "model.compile(loss='binary_crossentropy',\n",
        "              optimizer=SGD(\n",
        "                  lr=0.00001, \n",
        "                  momentum=0.9),\n",
        "              metrics=['acc'])"
      ]
    },
    {
      "cell_type": "markdown",
      "metadata": {
        "id": "zE37ARlqY9da"
      },
      "source": [
        "Now let's retrain the model. We'll train on all 2000 images available, for 50 epochs, and validate on all 1,000 validation images. (This may take 15-20 minutes to run.)"
      ]
    },
    {
      "cell_type": "code",
      "execution_count": 17,
      "metadata": {
        "colab": {
          "base_uri": "https://localhost:8080/"
        },
        "id": "o_GgDGG4Y_hJ",
        "outputId": "5c2ce032-5c47-4fcb-86dc-1d7a6ff0c8df"
      },
      "outputs": [
        {
          "output_type": "stream",
          "name": "stderr",
          "text": [
            "/usr/local/lib/python3.7/dist-packages/ipykernel_launcher.py:7: UserWarning: `Model.fit_generator` is deprecated and will be removed in a future version. Please use `Model.fit`, which supports generators.\n",
            "  import sys\n"
          ]
        },
        {
          "output_type": "stream",
          "name": "stdout",
          "text": [
            "Epoch 1/50\n",
            "100/100 - 29s - loss: 0.2725 - acc: 0.8805 - val_loss: 0.1735 - val_acc: 0.9300 - 29s/epoch - 292ms/step\n",
            "Epoch 2/50\n",
            "100/100 - 22s - loss: 0.2376 - acc: 0.9005 - val_loss: 0.1573 - val_acc: 0.9370 - 22s/epoch - 224ms/step\n",
            "Epoch 3/50\n",
            "100/100 - 23s - loss: 0.2332 - acc: 0.8975 - val_loss: 0.1484 - val_acc: 0.9420 - 23s/epoch - 234ms/step\n",
            "Epoch 4/50\n",
            "100/100 - 23s - loss: 0.2318 - acc: 0.9020 - val_loss: 0.1456 - val_acc: 0.9450 - 23s/epoch - 228ms/step\n",
            "Epoch 5/50\n",
            "100/100 - 24s - loss: 0.2246 - acc: 0.9055 - val_loss: 0.1450 - val_acc: 0.9450 - 24s/epoch - 235ms/step\n",
            "Epoch 6/50\n",
            "100/100 - 23s - loss: 0.2106 - acc: 0.9125 - val_loss: 0.1420 - val_acc: 0.9470 - 23s/epoch - 227ms/step\n",
            "Epoch 7/50\n",
            "100/100 - 23s - loss: 0.2234 - acc: 0.9040 - val_loss: 0.1402 - val_acc: 0.9480 - 23s/epoch - 233ms/step\n",
            "Epoch 8/50\n",
            "100/100 - 22s - loss: 0.2225 - acc: 0.9085 - val_loss: 0.1393 - val_acc: 0.9480 - 22s/epoch - 225ms/step\n",
            "Epoch 9/50\n",
            "100/100 - 23s - loss: 0.2178 - acc: 0.9095 - val_loss: 0.1380 - val_acc: 0.9480 - 23s/epoch - 232ms/step\n",
            "Epoch 10/50\n",
            "100/100 - 22s - loss: 0.2161 - acc: 0.9160 - val_loss: 0.1367 - val_acc: 0.9480 - 22s/epoch - 225ms/step\n",
            "Epoch 11/50\n",
            "100/100 - 22s - loss: 0.2162 - acc: 0.9080 - val_loss: 0.1344 - val_acc: 0.9460 - 22s/epoch - 224ms/step\n",
            "Epoch 12/50\n",
            "100/100 - 22s - loss: 0.2179 - acc: 0.9100 - val_loss: 0.1330 - val_acc: 0.9460 - 22s/epoch - 220ms/step\n",
            "Epoch 13/50\n",
            "100/100 - 23s - loss: 0.2015 - acc: 0.9195 - val_loss: 0.1320 - val_acc: 0.9470 - 23s/epoch - 225ms/step\n",
            "Epoch 14/50\n",
            "100/100 - 22s - loss: 0.2164 - acc: 0.9110 - val_loss: 0.1314 - val_acc: 0.9470 - 22s/epoch - 225ms/step\n",
            "Epoch 15/50\n",
            "100/100 - 23s - loss: 0.2181 - acc: 0.9155 - val_loss: 0.1301 - val_acc: 0.9480 - 23s/epoch - 229ms/step\n",
            "Epoch 16/50\n",
            "100/100 - 23s - loss: 0.2116 - acc: 0.9115 - val_loss: 0.1305 - val_acc: 0.9460 - 23s/epoch - 230ms/step\n",
            "Epoch 17/50\n",
            "100/100 - 23s - loss: 0.2198 - acc: 0.9125 - val_loss: 0.1296 - val_acc: 0.9470 - 23s/epoch - 227ms/step\n",
            "Epoch 18/50\n",
            "100/100 - 22s - loss: 0.2159 - acc: 0.9100 - val_loss: 0.1295 - val_acc: 0.9480 - 22s/epoch - 225ms/step\n",
            "Epoch 19/50\n",
            "100/100 - 22s - loss: 0.2028 - acc: 0.9180 - val_loss: 0.1271 - val_acc: 0.9490 - 22s/epoch - 223ms/step\n",
            "Epoch 20/50\n",
            "100/100 - 23s - loss: 0.1994 - acc: 0.9175 - val_loss: 0.1256 - val_acc: 0.9490 - 23s/epoch - 231ms/step\n",
            "Epoch 21/50\n",
            "100/100 - 22s - loss: 0.2121 - acc: 0.9155 - val_loss: 0.1259 - val_acc: 0.9500 - 22s/epoch - 220ms/step\n",
            "Epoch 22/50\n",
            "100/100 - 23s - loss: 0.2035 - acc: 0.9130 - val_loss: 0.1243 - val_acc: 0.9500 - 23s/epoch - 230ms/step\n",
            "Epoch 23/50\n",
            "100/100 - 23s - loss: 0.2106 - acc: 0.9140 - val_loss: 0.1240 - val_acc: 0.9500 - 23s/epoch - 226ms/step\n",
            "Epoch 24/50\n",
            "100/100 - 23s - loss: 0.2121 - acc: 0.9140 - val_loss: 0.1235 - val_acc: 0.9510 - 23s/epoch - 235ms/step\n",
            "Epoch 25/50\n",
            "100/100 - 23s - loss: 0.1981 - acc: 0.9205 - val_loss: 0.1226 - val_acc: 0.9510 - 23s/epoch - 231ms/step\n",
            "Epoch 26/50\n",
            "100/100 - 23s - loss: 0.2000 - acc: 0.9165 - val_loss: 0.1226 - val_acc: 0.9510 - 23s/epoch - 234ms/step\n",
            "Epoch 27/50\n",
            "100/100 - 22s - loss: 0.2094 - acc: 0.9115 - val_loss: 0.1217 - val_acc: 0.9510 - 22s/epoch - 223ms/step\n",
            "Epoch 28/50\n",
            "100/100 - 22s - loss: 0.1963 - acc: 0.9175 - val_loss: 0.1214 - val_acc: 0.9510 - 22s/epoch - 224ms/step\n",
            "Epoch 29/50\n",
            "100/100 - 22s - loss: 0.2027 - acc: 0.9170 - val_loss: 0.1207 - val_acc: 0.9510 - 22s/epoch - 219ms/step\n",
            "Epoch 30/50\n",
            "100/100 - 22s - loss: 0.2006 - acc: 0.9160 - val_loss: 0.1192 - val_acc: 0.9540 - 22s/epoch - 222ms/step\n",
            "Epoch 31/50\n",
            "100/100 - 22s - loss: 0.1989 - acc: 0.9205 - val_loss: 0.1191 - val_acc: 0.9530 - 22s/epoch - 220ms/step\n",
            "Epoch 32/50\n",
            "100/100 - 22s - loss: 0.1928 - acc: 0.9205 - val_loss: 0.1183 - val_acc: 0.9540 - 22s/epoch - 219ms/step\n",
            "Epoch 33/50\n",
            "100/100 - 23s - loss: 0.1943 - acc: 0.9160 - val_loss: 0.1180 - val_acc: 0.9540 - 23s/epoch - 234ms/step\n",
            "Epoch 34/50\n",
            "100/100 - 23s - loss: 0.1959 - acc: 0.9160 - val_loss: 0.1171 - val_acc: 0.9540 - 23s/epoch - 229ms/step\n",
            "Epoch 35/50\n",
            "100/100 - 23s - loss: 0.1975 - acc: 0.9165 - val_loss: 0.1171 - val_acc: 0.9550 - 23s/epoch - 234ms/step\n",
            "Epoch 36/50\n",
            "100/100 - 22s - loss: 0.2067 - acc: 0.9190 - val_loss: 0.1170 - val_acc: 0.9540 - 22s/epoch - 221ms/step\n",
            "Epoch 37/50\n",
            "100/100 - 22s - loss: 0.1819 - acc: 0.9265 - val_loss: 0.1169 - val_acc: 0.9530 - 22s/epoch - 225ms/step\n",
            "Epoch 38/50\n",
            "100/100 - 22s - loss: 0.2022 - acc: 0.9135 - val_loss: 0.1160 - val_acc: 0.9530 - 22s/epoch - 221ms/step\n",
            "Epoch 39/50\n",
            "100/100 - 22s - loss: 0.2050 - acc: 0.9130 - val_loss: 0.1153 - val_acc: 0.9560 - 22s/epoch - 224ms/step\n",
            "Epoch 40/50\n",
            "100/100 - 22s - loss: 0.2038 - acc: 0.9215 - val_loss: 0.1146 - val_acc: 0.9560 - 22s/epoch - 220ms/step\n",
            "Epoch 41/50\n",
            "100/100 - 22s - loss: 0.1911 - acc: 0.9175 - val_loss: 0.1141 - val_acc: 0.9560 - 22s/epoch - 222ms/step\n",
            "Epoch 42/50\n",
            "100/100 - 22s - loss: 0.1981 - acc: 0.9205 - val_loss: 0.1136 - val_acc: 0.9550 - 22s/epoch - 221ms/step\n",
            "Epoch 43/50\n",
            "100/100 - 22s - loss: 0.1888 - acc: 0.9265 - val_loss: 0.1131 - val_acc: 0.9540 - 22s/epoch - 221ms/step\n",
            "Epoch 44/50\n",
            "100/100 - 23s - loss: 0.1981 - acc: 0.9215 - val_loss: 0.1127 - val_acc: 0.9530 - 23s/epoch - 229ms/step\n",
            "Epoch 45/50\n",
            "100/100 - 22s - loss: 0.1864 - acc: 0.9230 - val_loss: 0.1130 - val_acc: 0.9530 - 22s/epoch - 221ms/step\n",
            "Epoch 46/50\n",
            "100/100 - 23s - loss: 0.1944 - acc: 0.9235 - val_loss: 0.1122 - val_acc: 0.9540 - 23s/epoch - 231ms/step\n",
            "Epoch 47/50\n",
            "100/100 - 22s - loss: 0.1934 - acc: 0.9255 - val_loss: 0.1118 - val_acc: 0.9540 - 22s/epoch - 224ms/step\n",
            "Epoch 48/50\n",
            "100/100 - 22s - loss: 0.1805 - acc: 0.9310 - val_loss: 0.1117 - val_acc: 0.9530 - 22s/epoch - 225ms/step\n",
            "Epoch 49/50\n",
            "100/100 - 22s - loss: 0.1752 - acc: 0.9320 - val_loss: 0.1114 - val_acc: 0.9530 - 22s/epoch - 217ms/step\n",
            "Epoch 50/50\n",
            "100/100 - 22s - loss: 0.1805 - acc: 0.9210 - val_loss: 0.1102 - val_acc: 0.9530 - 22s/epoch - 223ms/step\n"
          ]
        }
      ],
      "source": [
        "history = model.fit_generator(\n",
        "      train_generator,\n",
        "      steps_per_epoch=100,\n",
        "      epochs=50,\n",
        "      validation_data=validation_generator,\n",
        "      validation_steps=50,\n",
        "      verbose=2)"
      ]
    },
    {
      "cell_type": "markdown",
      "metadata": {
        "id": "3EPGn58ofwq5"
      },
      "source": [
        "We are seeing a nice improvement, with the validation loss going from ~1.7 down to ~1.2, and accuracy going from 88% to 92%. That's a 4.5% relative improvement in accuracy.\n",
        "\n",
        "Let's plot the training and validation loss and accuracy to show it conclusively:"
      ]
    },
    {
      "cell_type": "code",
      "execution_count": 18,
      "metadata": {
        "colab": {
          "base_uri": "https://localhost:8080/",
          "height": 563
        },
        "id": "1FtxcKjJfxL9",
        "outputId": "a707eb54-2089-4b5b-9b38-eff021f7503b"
      },
      "outputs": [
        {
          "output_type": "execute_result",
          "data": {
            "text/plain": [
              "Text(0.5, 1.0, 'Training and validation loss')"
            ]
          },
          "metadata": {},
          "execution_count": 18
        },
        {
          "output_type": "display_data",
          "data": {
            "text/plain": [
              "<Figure size 432x288 with 1 Axes>"
            ],
            "image/png": "[encoded data removed]"
          },
          "metadata": {
            "needs_background": "light"
          }
        },
        {
          "output_type": "display_data",
          "data": {
            "text/plain": [
              "<Figure size 432x288 with 1 Axes>"
            ],
            "image/png": "[encoded data removed]"
          },
          "metadata": {
            "needs_background": "light"
          }
        }
      ],
      "source": [
        "%matplotlib inline\n",
        "\n",
        "import matplotlib.pyplot as plt\n",
        "import matplotlib.image as mpimg\n",
        "\n",
        "# Retrieve a list of accuracy results on training and validation data\n",
        "# sets for each training epoch\n",
        "acc = history.history['acc']\n",
        "val_acc = history.history['val_acc']\n",
        "\n",
        "# Retrieve a list of list results on training and validation data\n",
        "# sets for each training epoch\n",
        "loss = history.history['loss']\n",
        "val_loss = history.history['val_loss']\n",
        "\n",
        "# Get number of epochs\n",
        "epochs = range(len(acc))\n",
        "\n",
        "# Plot training and validation accuracy per epoch\n",
        "plt.plot(epochs, acc)\n",
        "plt.plot(epochs, val_acc)\n",
        "plt.title('Training and validation accuracy')\n",
        "\n",
        "plt.figure()\n",
        "\n",
        "# Plot training and validation loss per epoch\n",
        "plt.plot(epochs, loss)\n",
        "plt.plot(epochs, val_loss)\n",
        "plt.title('Training and validation loss')"
      ]
    },
    {
      "cell_type": "markdown",
      "metadata": {
        "id": "X-fUIeizakjE"
      },
      "source": [
        "Congratulations! Using feature extraction and fine-tuning, you've built an image classification model that can identify cats vs. dogs in images with over 90% accuracy."
      ]
    },
    {
      "cell_type": "markdown",
      "metadata": {
        "id": "x_ANwJCnx7w-"
      },
      "source": [
        "## Clean Up\n",
        "\n",
        "Run the following cell to terminate the kernel and free memory resources:"
      ]
    },
    {
      "cell_type": "code",
      "execution_count": null,
      "metadata": {
        "id": "-hUmyohAyBzh"
      },
      "outputs": [],
      "source": [
        "import os, signal\n",
        "os.kill(os.getpid(), signal.SIGKILL)"
      ]
    }
  ],
  "metadata": {
    "accelerator": "GPU",
    "colab": {
      "collapsed_sections": [
        "jTEzoMx6CasV"
      ],
      "name": "image_classification_part3.ipynb",
      "provenance": []
    },
    "kernelspec": {
      "display_name": "Python 3",
      "name": "python3"
    }
  },
  "nbformat": 4,
  "nbformat_minor": 0
}